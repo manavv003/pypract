{
 "cells": [
  {
   "cell_type": "code",
   "execution_count": 1,
   "id": "9e712a9d-5fa6-42f3-b832-649df5bdea29",
   "metadata": {},
   "outputs": [],
   "source": [
    "class AcademicPerformance:\n",
    "    def __init__(self):\n",
    "        self.courses = {}  # Dictionary to store courses with credits and points\n",
    "\n",
    "    def add_course(self, course_name, total_credits, earned_points):\n",
    "        self.courses[course_name] = {\n",
    "            'total_credits': total_credits,\n",
    "            'earned_points': earned_points\n",
    "        }\n",
    "        print(f'Course {course_name} added.')\n",
    "\n",
    "    def drop_course(self, course_name):\n",
    "        if course_name in self.courses:\n",
    "            del self.courses[course_name]\n",
    "            print(f'Course {course_name} dropped.')\n",
    "        else:\n",
    "            print(f'Course {course_name} not found.')\n",
    "\n",
    "    def print_academic_record(self):\n",
    "        if not self.courses:\n",
    "            print('No courses found.')\n",
    "            return\n",
    "        for course_name, details in self.courses.items():\n",
    "            print(f'Course: {course_name}, Credits: {details[\"total_credits\"]}, Points: {details[\"earned_points\"]}')\n",
    "    \n",
    "    def calculate_cgpa(self):\n",
    "        total_credits = sum(course['total_credits'] for course in self.courses.values())\n",
    "        total_points = sum(course['earned_points'] for course in self.courses.values())\n",
    "        if total_credits == 0:\n",
    "            print('No courses to calculate CGPA.')\n",
    "            return\n",
    "        cgpa = total_points / total_credits\n",
    "        print(f'Current CGPA: {cgpa:.2f}')\n"
   ]
  },
  {
   "cell_type": "code",
   "execution_count": 2,
   "id": "137605f3-301d-42a6-9e99-97a818899d01",
   "metadata": {},
   "outputs": [
    {
     "name": "stdout",
     "output_type": "stream",
     "text": [
      "Course Mathematics added.\n",
      "Course Physics added.\n",
      "Course Chemistry added.\n",
      "Course Chemistry dropped.\n",
      "Course: Mathematics, Credits: 4, Points: 36\n",
      "Course: Physics, Credits: 3, Points: 27\n",
      "Current CGPA: 9.00\n"
     ]
    }
   ],
   "source": [
    "# Create an instance of AcademicPerformance\n",
    "performance = AcademicPerformance()\n",
    "\n",
    "# Add courses\n",
    "performance.add_course('Mathematics', 4, 36)\n",
    "performance.add_course('Physics', 3, 27)\n",
    "performance.add_course('Chemistry', 4, 32)\n",
    "\n",
    "# Drop a course\n",
    "performance.drop_course('Chemistry')\n",
    "\n",
    "# Print the academic record\n",
    "performance.print_academic_record()\n",
    "\n",
    "# Calculate CGPA\n",
    "performance.calculate_cgpa()\n"
   ]
  },
  {
   "cell_type": "code",
   "execution_count": null,
   "id": "32e97cd0-1597-4a7a-987c-fb36f2e6f225",
   "metadata": {},
   "outputs": [],
   "source": []
  }
 ],
 "metadata": {
  "kernelspec": {
   "display_name": "Python 3 (ipykernel)",
   "language": "python",
   "name": "python3"
  },
  "language_info": {
   "codemirror_mode": {
    "name": "ipython",
    "version": 3
   },
   "file_extension": ".py",
   "mimetype": "text/x-python",
   "name": "python",
   "nbconvert_exporter": "python",
   "pygments_lexer": "ipython3",
   "version": "3.12.6"
  }
 },
 "nbformat": 4,
 "nbformat_minor": 5
}
