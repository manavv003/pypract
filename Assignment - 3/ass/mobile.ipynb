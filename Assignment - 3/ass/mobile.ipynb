{
 "cells": [
  {
   "cell_type": "code",
   "execution_count": 4,
   "id": "60ec1e7c-e6ea-4df2-9bdb-b2fb20e2a326",
   "metadata": {},
   "outputs": [
    {
     "name": "stdout",
     "output_type": "stream",
     "text": [
      "['99405 55241', '7878943499', '(027)324-3232']\n"
     ]
    }
   ],
   "source": [
    "import re\n",
    "text = \"\"\"\n",
    "    99405 55241\n",
    "    7878943499\n",
    "    (027)324-3232\n",
    "\"\"\"\n",
    "digits10=r'\\d{10}'\n",
    "digits55=r'\\d{5}\\D\\d{5}'\n",
    "digitsus=r'\\(\\d{3}\\)\\s?\\d{3}\\D\\d{4}'\n",
    "\n",
    "regex=digits10+'|'+digits55+'|'+digitsus\n",
    "mobiles=re.findall(regex,text)\n",
    "print(mobiles)\n"
   ]
  },
  {
   "cell_type": "code",
   "execution_count": null,
   "id": "3f3366fe-0f11-4b8a-84dc-1f7e5bb7cc9d",
   "metadata": {},
   "outputs": [],
   "source": []
  }
 ],
 "metadata": {
  "kernelspec": {
   "display_name": "Python 3 (ipykernel)",
   "language": "python",
   "name": "python3"
  },
  "language_info": {
   "codemirror_mode": {
    "name": "ipython",
    "version": 3
   },
   "file_extension": ".py",
   "mimetype": "text/x-python",
   "name": "python",
   "nbconvert_exporter": "python",
   "pygments_lexer": "ipython3",
   "version": "3.12.6"
  }
 },
 "nbformat": 4,
 "nbformat_minor": 5
}
