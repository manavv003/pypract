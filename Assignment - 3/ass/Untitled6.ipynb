{
 "cells": [
  {
   "cell_type": "code",
   "execution_count": 1,
   "id": "f67cc62b-db44-409d-b203-049ba61e0b2c",
   "metadata": {},
   "outputs": [],
   "source": [
    "class Matrix:\n",
    "    def __init__(self, rows, cols, data=None):\n",
    "        self.rows = rows\n",
    "        self.cols = cols\n",
    "        if data:\n",
    "            self.data = data\n",
    "        else:\n",
    "            self.data = [[0 for _ in range(cols)] for _ in range(rows)]\n",
    "\n",
    "    def __str__(self):\n",
    "        result = \"\"\n",
    "        for row in self.data:\n",
    "            result += ' '.join(map(str, row)) + \"\\n\"\n",
    "        return result\n",
    "\n",
    "    def add(self, other):\n",
    "        if self.rows != other.rows or self.cols != other.cols:\n",
    "            raise ValueError(\"Matrices must have the same dimensions to add.\")\n",
    "        \n",
    "        result = Matrix(self.rows, self.cols)\n",
    "        for i in range(self.rows):\n",
    "            for j in range(self.cols):\n",
    "                result.data[i][j] = self.data[i][j] + other.data[i][j]\n",
    "        return result\n",
    "\n",
    "    def multiply(self, other):\n",
    "        if self.cols != other.cols:\n",
    "            raise ValueError(\"Matrices must have the same dimensions for element-wise multiplication.\")\n",
    "        \n",
    "        result = Matrix(self.rows, other.cols)\n",
    "        for i in range(self.rows):\n",
    "            for j in range(other.cols):\n",
    "                result.data[i][j] = sum(self.data[i][k] * other.data[k][j] for k in range(self.cols))\n",
    "        return result\n",
    "\n",
    "def initialize_matrix(rows, cols, data):\n",
    "    return Matrix(rows, cols, data)\n"
   ]
  },
  {
   "cell_type": "code",
   "execution_count": 2,
   "id": "e6af77fa-a0ff-4e4f-b657-d3a7683882b4",
   "metadata": {},
   "outputs": [
    {
     "name": "stdout",
     "output_type": "stream",
     "text": [
      "Matrix 1:\n",
      "1 2\n",
      "3 4\n",
      "\n",
      "Matrix 2:\n",
      "5 6\n",
      "7 8\n",
      "\n",
      "Addition Result:\n",
      "6 8\n",
      "10 12\n",
      "\n",
      "Multiplication Result:\n",
      "19 22\n",
      "43 50\n",
      "\n"
     ]
    }
   ],
   "source": [
    "# Initialize matrices\n",
    "matrix1 = initialize_matrix(2, 2, [[1, 2], [3, 4]])\n",
    "matrix2 = initialize_matrix(2, 2, [[5, 6], [7, 8]])\n",
    "\n",
    "# Print matrices\n",
    "print(\"Matrix 1:\")\n",
    "print(matrix1)\n",
    "\n",
    "print(\"Matrix 2:\")\n",
    "print(matrix2)\n",
    "\n",
    "# Add matrices\n",
    "result_add = matrix1.add(matrix2)\n",
    "print(\"Addition Result:\")\n",
    "print(result_add)\n",
    "\n",
    "# Multiply matrices\n",
    "result_multiply = matrix1.multiply(matrix2)\n",
    "print(\"Multiplication Result:\")\n",
    "print(result_multiply)\n"
   ]
  },
  {
   "cell_type": "code",
   "execution_count": null,
   "id": "f4b76ce7-62ae-4bac-9f77-9dc6cec236ec",
   "metadata": {},
   "outputs": [],
   "source": []
  }
 ],
 "metadata": {
  "kernelspec": {
   "display_name": "Python 3 (ipykernel)",
   "language": "python",
   "name": "python3"
  },
  "language_info": {
   "codemirror_mode": {
    "name": "ipython",
    "version": 3
   },
   "file_extension": ".py",
   "mimetype": "text/x-python",
   "name": "python",
   "nbconvert_exporter": "python",
   "pygments_lexer": "ipython3",
   "version": "3.12.6"
  }
 },
 "nbformat": 4,
 "nbformat_minor": 5
}
