{
 "cells": [
  {
   "cell_type": "code",
   "execution_count": null,
   "id": "222bac45-4c16-4f9c-afc4-c1eb80c66455",
   "metadata": {},
   "outputs": [
    {
     "name": "stdout",
     "output_type": "stream",
     "text": [
      "['rupesh@cse', 'zankhi@itmc', 'zankhi@gmail', 'zankhi@usa']\n"
     ]
    }
   ],
   "source": [
    "import re\n",
    "\n",
    "text = \"Hello my email id is rupesh@cse.itmse.ac.in in myabc@itmc.ac.in the deasai@gmail.com a jd124@usa.net and @rupeshsomething was the one i said\"\n",
    "regex=r'\\w+@\\w+'\n",
    "emails=re.findall(regex,text.lower())\n",
    "print(emails)"
   ]
  },
  {
   "cell_type": "code",
   "execution_count": null,
   "id": "d352fbe7-9a81-484f-b0aa-9decdc2fbae3",
   "metadata": {},
   "outputs": [],
   "source": []
  },
  {
   "cell_type": "code",
   "execution_count": null,
   "id": "e1cbdeea-c061-4696-9a92-2ddbcc517c9c",
   "metadata": {},
   "outputs": [],
   "source": []
  }
 ],
 "metadata": {
  "kernelspec": {
   "display_name": "Python 3 (ipykernel)",
   "language": "python",
   "name": "python3"
  },
  "language_info": {
   "codemirror_mode": {
    "name": "ipython",
    "version": 3
   },
   "file_extension": ".py",
   "mimetype": "text/x-python",
   "name": "python",
   "nbconvert_exporter": "python",
   "pygments_lexer": "ipython3",
   "version": "3.12.6"
  }
 },
 "nbformat": 4,
 "nbformat_minor": 5
}
