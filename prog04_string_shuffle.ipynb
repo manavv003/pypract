{
 "cells": [
  {
   "cell_type": "code",
   "execution_count": 3,
   "id": "d6c9cf9c-5db1-40ac-a3e3-9dd9334159fa",
   "metadata": {},
   "outputs": [
    {
     "name": "stdout",
     "output_type": "stream",
     "text": [
      "Original word: python\n",
      "Shuffled word: yhontp\n"
     ]
    }
   ],
   "source": [
    "#04:Word shuffle using string manipulation\n",
    "\n",
    "import random\n",
    "def shuffle_word(word):\n",
    "\n",
    "    char_list = list(word)\n",
    "    \n",
    "    random.shuffle(char_list)\n",
    "    \n",
    "    shuffled_word = ''.join(char_list)\n",
    "    \n",
    "    return shuffled_word\n",
    "\n",
    "word = \"python\"\n",
    "shuffled = shuffle_word(word)\n",
    "print(f\"Original word: {word}\")\n",
    "print(f\"Shuffled word: {shuffled}\")"
   ]
  },
  {
   "cell_type": "code",
   "execution_count": null,
   "id": "dfe91550-2dc8-4ae3-adc7-f4077f247bae",
   "metadata": {},
   "outputs": [],
   "source": []
  },
  {
   "cell_type": "code",
   "execution_count": null,
   "id": "3e3535f0-fe32-483b-9767-d0ff5edcecdb",
   "metadata": {},
   "outputs": [],
   "source": []
  },
  {
   "cell_type": "code",
   "execution_count": null,
   "id": "b089b6ec-a545-4058-800f-898f79d11782",
   "metadata": {},
   "outputs": [],
   "source": []
  }
 ],
 "metadata": {
  "kernelspec": {
   "display_name": "Python 3 (ipykernel)",
   "language": "python",
   "name": "python3"
  },
  "language_info": {
   "codemirror_mode": {
    "name": "ipython",
    "version": 3
   },
   "file_extension": ".py",
   "mimetype": "text/x-python",
   "name": "python",
   "nbconvert_exporter": "python",
   "pygments_lexer": "ipython3",
   "version": "3.12.5"
  }
 },
 "nbformat": 4,
 "nbformat_minor": 5
}
