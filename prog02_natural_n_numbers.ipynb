{
 "cells": [
  {
   "cell_type": "code",
   "execution_count": 5,
   "id": "88f903c5",
   "metadata": {},
   "outputs": [
    {
     "name": "stdout",
     "output_type": "stream",
     "text": [
      "Enter data: 32\n",
      "Sum is:  528\n"
     ]
    }
   ],
   "source": [
    "#Find the sum of the first n natural numbers.\n",
    "\n",
    "n= int(input('Enter data: '))\n",
    "sum1=0\n",
    "\n",
    "for i in range(0,n+1):\n",
    "    sum1 += i\n",
    "    \n",
    "print(\"Sum is: \", sum1)"
   ]
  },
  {
   "cell_type": "code",
   "execution_count": null,
   "id": "efa46f81",
   "metadata": {},
   "outputs": [],
   "source": []
  }
 ],
 "metadata": {
  "kernelspec": {
   "display_name": "Python 3 (ipykernel)",
   "language": "python",
   "name": "python3"
  },
  "language_info": {
   "codemirror_mode": {
    "name": "ipython",
    "version": 3
   },
   "file_extension": ".py",
   "mimetype": "text/x-python",
   "name": "python",
   "nbconvert_exporter": "python",
   "pygments_lexer": "ipython3",
   "version": "3.9.6"
  }
 },
 "nbformat": 4,
 "nbformat_minor": 5
}
