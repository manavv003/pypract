{
 "cells": [
  {
   "cell_type": "code",
   "execution_count": 1,
   "id": "1c4e0861",
   "metadata": {},
   "outputs": [
    {
     "name": "stdout",
     "output_type": "stream",
     "text": [
      "A: GUJ\n",
      "B: 2024\n",
      "C: INDIA\n"
     ]
    }
   ],
   "source": [
    "def st(no):\n",
    "\n",
    "    a = no[:3]\n",
    "    b = no[3:7]    \n",
    "    c = no[7:]\n",
    "    \n",
    "    return a,b,c\n",
    "\n",
    "no = \"GUJ2024INDIA\"\n",
    "a, b, c = st(no)\n",
    "\n",
    "print(f\"A: {a}\")\n",
    "print(f\"B: {b}\")\n",
    "print(f\"C: {c}\")"
   ]
  },
  {
   "cell_type": "code",
   "execution_count": null,
   "id": "a78fb026",
   "metadata": {},
   "outputs": [],
   "source": []
  }
 ],
 "metadata": {
  "kernelspec": {
   "display_name": "Python 3 (ipykernel)",
   "language": "python",
   "name": "python3"
  },
  "language_info": {
   "codemirror_mode": {
    "name": "ipython",
    "version": 3
   },
   "file_extension": ".py",
   "mimetype": "text/x-python",
   "name": "python",
   "nbconvert_exporter": "python",
   "pygments_lexer": "ipython3",
   "version": "3.12.5"
  }
 },
 "nbformat": 4,
 "nbformat_minor": 5
}
