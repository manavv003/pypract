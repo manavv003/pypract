{
 "cells": [
  {
   "cell_type": "code",
   "execution_count": 1,
   "id": "d4e41ae6",
   "metadata": {},
   "outputs": [
    {
     "name": "stdout",
     "output_type": "stream",
     "text": [
      "The blood group a+ is not compatible with a+.\n"
     ]
    }
   ],
   "source": [
    "def blood_group_compatible(donor, receiver):\n",
    "\n",
    "    compatibility = {\n",
    "\n",
    "        'A+': ['A+', 'A-', 'O+', 'O-'],\n",
    "        'O+': ['O+', 'O-'],\n",
    "        'B+' : ['B+','B-', 'O+', 'O-'], \n",
    "        'AB+' : ['A+', 'A-', 'B+', 'B-', 'O+', 'O-', 'AB+', 'AB-'],\n",
    "        'A-' : ['A-', 'O-'],\n",
    "        'O-' : ['O-'],\n",
    "        'B-' : ['B-', 'O-'],\n",
    "        'AB-' : ['AB-', 'A-', 'B-', 'O-'],\n",
    "\n",
    "    }\n",
    "\n",
    "    if receiver in compatibility.get(donor, []):\n",
    "        return True\n",
    "    \n",
    "    return False\n",
    "\n",
    "donor = input(('donor blood group is: '))\n",
    "\n",
    "receiver = input(('receiver blood group is: '))\n",
    "\n",
    "if blood_group_compatible(donor, receiver):\n",
    "\n",
    "    print(f\"The blood group {donor} is compatible with {receiver}.\")\n",
    "    \n",
    "else:\n",
    "    \n",
    "    print(f\"The blood group {donor} is not compatible with {receiver}.\")\n"
   ]
  },
  {
   "cell_type": "code",
   "execution_count": null,
   "id": "75b5b935",
   "metadata": {},
   "outputs": [],
   "source": []
  }
 ],
 "metadata": {
  "kernelspec": {
   "display_name": "Python 3 (ipykernel)",
   "language": "python",
   "name": "python3"
  },
  "language_info": {
   "codemirror_mode": {
    "name": "ipython",
    "version": 3
   },
   "file_extension": ".py",
   "mimetype": "text/x-python",
   "name": "python",
   "nbconvert_exporter": "python",
   "pygments_lexer": "ipython3",
   "version": "3.12.5"
  }
 },
 "nbformat": 4,
 "nbformat_minor": 5
}
