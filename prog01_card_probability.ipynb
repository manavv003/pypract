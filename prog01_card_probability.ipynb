{
 "cells": [
  {
   "cell_type": "code",
   "execution_count": 1,
   "id": "25f4d66e",
   "metadata": {},
   "outputs": [
    {
     "name": "stdout",
     "output_type": "stream",
     "text": [
      "The probability of a card is neither a king nor a spade is: 0.69231\n"
     ]
    }
   ],
   "source": [
    "#01 a card is drawn at random from a desk of well-shuffled cards. find the probability of  is being neither a king nor a spade.\n",
    "\n",
    "def probability_neither_king_nor_spade():\n",
    "    total_cards = 52\n",
    "    kings = 4\n",
    "    spades = 13\n",
    "    kings_and_spades = 1\n",
    "    \n",
    "    either_kings_or_spades = kings + spades - kings_and_spades\n",
    "    \n",
    "    neither_kings_nor_spades = total_cards - either_kings_or_spades\n",
    "    \n",
    "    probability = neither_kings_nor_spades / total_cards\n",
    "    \n",
    "    return probability\n",
    "\n",
    "print(f\"The probability of a card is neither a king nor a spade is: {probability_neither_king_nor_spade():.5f}\")"
   ]
  },
  {
   "cell_type": "code",
   "execution_count": null,
   "id": "4945efd6",
   "metadata": {},
   "outputs": [],
   "source": []
  }
 ],
 "metadata": {
  "kernelspec": {
   "display_name": "Python 3 (ipykernel)",
   "language": "python",
   "name": "python3"
  },
  "language_info": {
   "codemirror_mode": {
    "name": "ipython",
    "version": 3
   },
   "file_extension": ".py",
   "mimetype": "text/x-python",
   "name": "python",
   "nbconvert_exporter": "python",
   "pygments_lexer": "ipython3",
   "version": "3.12.5"
  }
 },
 "nbformat": 4,
 "nbformat_minor": 5
}
